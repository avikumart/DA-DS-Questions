{
  "nbformat": 4,
  "nbformat_minor": 0,
  "metadata": {
    "colab": {
      "provenance": []
    },
    "kernelspec": {
      "name": "python3",
      "display_name": "Python 3"
    },
    "language_info": {
      "name": "python"
    }
  },
  "cells": [
    {
      "cell_type": "code",
      "execution_count": null,
      "metadata": {
        "colab": {
          "base_uri": "https://localhost:8080/"
        },
        "id": "y648fcuuH3k5",
        "outputId": "ffc6d68b-e1c8-454b-c2f4-7aae4c8307bb"
      },
      "outputs": [
        {
          "output_type": "stream",
          "name": "stdout",
          "text": [
            "Enter a number: 34\n",
            "The number is positive.\n"
          ]
        }
      ],
      "source": [
        "#Write a Python program to check if a number is positive, negative or zero.\n",
        "def check_number(num):\n",
        "    if num > 0:\n",
        "        return \"The number is positive.\"\n",
        "    elif num < 0:\n",
        "        return \"The number is negative.\"\n",
        "    else:\n",
        "        return \"The number is zero.\"\n",
        "\n",
        "# Input from the user\n",
        "number = float(input(\"Enter a number: \"))\n",
        "\n",
        "# Check and display the result\n",
        "result = check_number(number)\n",
        "print(result)"
      ]
    },
    {
      "cell_type": "code",
      "source": [
        "#Write a Python program to get the Factorial number of given numbers.\n",
        "def factorial(num):\n",
        "    if num == 0 or num == 1:\n",
        "        return 1\n",
        "    else:\n",
        "        return num * factorial(num - 1)\n",
        "\n",
        "# Input from the user\n",
        "number = int(input(\"Enter a number: \"))\n",
        "factorial(number)"
      ],
      "metadata": {
        "colab": {
          "base_uri": "https://localhost:8080/"
        },
        "id": "jh4cJ4QESVE7",
        "outputId": "26351aaa-9db8-42b0-98c6-596ea88d4694"
      },
      "execution_count": null,
      "outputs": [
        {
          "name": "stdout",
          "output_type": "stream",
          "text": [
            "Enter a number: 2\n"
          ]
        },
        {
          "output_type": "execute_result",
          "data": {
            "text/plain": [
              "2"
            ]
          },
          "metadata": {},
          "execution_count": 2
        }
      ]
    },
    {
      "cell_type": "code",
      "source": [
        "# fibonacchie series\n",
        "def fibonacci_series(n):\n",
        "    fib_sequence = [0, 1]\n",
        "    while len(fib_sequence) < n:\n",
        "        next_value = fib_sequence[-1] + fib_sequence[-2]\n",
        "        fib_sequence.append(next_value)\n",
        "    return fib_sequence[:n]\n",
        "\n",
        "# Input from the user\n",
        "n = int(input(\"Enter the range for Fibonacci series: \"))\n",
        "\n",
        "# Ensure the number is non-negative\n",
        "if n <= 0:\n",
        "    print(\"Please enter a positive integer.\")\n",
        "else:\n",
        "    # Get and display the Fibonacci series\n",
        "    result = fibonacci_series(n)\n",
        "    print(f\"Fibonacci series of range {n}: {result}\")"
      ],
      "metadata": {
        "colab": {
          "base_uri": "https://localhost:8080/"
        },
        "id": "Z7x8cWyFTjBk",
        "outputId": "43adda24-5012-416b-826d-6d9b620eb802"
      },
      "execution_count": null,
      "outputs": [
        {
          "output_type": "stream",
          "name": "stdout",
          "text": [
            "Enter the range for Fibonacci series: 4\n",
            "Fibonacci series of range 4: [0, 1, 1, 2]\n"
          ]
        }
      ]
    },
    {
      "cell_type": "code",
      "source": [
        "# continue statement\n",
        "for i in range(1,10):\n",
        "  if i == 5:\n",
        "    continue\n",
        "  print(i)"
      ],
      "metadata": {
        "colab": {
          "base_uri": "https://localhost:8080/"
        },
        "id": "RcMK-vPbVOLY",
        "outputId": "37ecfcab-52ad-48d3-b336-3dedd2ede884"
      },
      "execution_count": null,
      "outputs": [
        {
          "output_type": "stream",
          "name": "stdout",
          "text": [
            "1\n",
            "2\n",
            "3\n",
            "4\n",
            "6\n",
            "7\n",
            "8\n",
            "9\n"
          ]
        }
      ]
    },
    {
      "cell_type": "code",
      "source": [
        "#Write python program that swap two number with temp variable\n",
        "# and without temp variable.\n",
        "# Swapping with a temporary variable\n",
        "def swap_with_temp(a, b):\n",
        "    print(f\"Before swap: a = {a}, b = {b}\")\n",
        "\n",
        "    # Use a temporary variable\n",
        "    temp = a\n",
        "    a = b\n",
        "    b = temp\n",
        "\n",
        "    print(f\"After swap: a = {a}, b = {b}\")\n",
        "\n",
        "# Example usage\n",
        "a = 5\n",
        "b = 10\n",
        "swap_with_temp(a, b)"
      ],
      "metadata": {
        "colab": {
          "base_uri": "https://localhost:8080/"
        },
        "id": "C-7O_ZWPXtDF",
        "outputId": "b8983033-8010-41d9-b3ce-891a5246188e"
      },
      "execution_count": null,
      "outputs": [
        {
          "output_type": "stream",
          "name": "stdout",
          "text": [
            "Before swap: a = 5, b = 10\n",
            "After swap: a = 10, b = 5\n"
          ]
        }
      ]
    },
    {
      "cell_type": "code",
      "source": [
        "def swap_without_temp(a, b):\n",
        "    print(f\"Before swap: a = {a}, b = {b}\")\n",
        "\n",
        "    # Swap without using a temporary variable\n",
        "    a, b = b, a  # Python's tuple unpacking\n",
        "\n",
        "    print(f\"After swap: a = {a}, b = {b}\")\n",
        "\n",
        "# Example usage\n",
        "a = 5\n",
        "b = 10\n",
        "swap_without_temp(a, b)"
      ],
      "metadata": {
        "colab": {
          "base_uri": "https://localhost:8080/"
        },
        "id": "SWnUsiZebulv",
        "outputId": "cbe64a81-2931-45a8-cd20-fd8127357e6b"
      },
      "execution_count": null,
      "outputs": [
        {
          "output_type": "stream",
          "name": "stdout",
          "text": [
            "Before swap: a = 5, b = 10\n",
            "After swap: a = 10, b = 5\n"
          ]
        }
      ]
    },
    {
      "cell_type": "code",
      "source": [
        "# use of assert"
      ],
      "metadata": {
        "id": "8SrEHAhjdn51"
      },
      "execution_count": null,
      "outputs": []
    },
    {
      "cell_type": "code",
      "source": [
        "def divide(a, b):\n",
        "    assert b != 0, \"Denominator should not be zero\"\n",
        "    return a / b\n",
        "\n",
        "# Example usage\n",
        "result = divide(10, 2)  # No error\n",
        "print(result)\n",
        "\n",
        "result = divide(10, 0)"
      ],
      "metadata": {
        "collapsed": true,
        "id": "8WE13WTodqUk"
      },
      "execution_count": null,
      "outputs": []
    },
    {
      "cell_type": "code",
      "source": [
        "# Function to count occurrences of a substring using str.count()\n",
        "def count_substring_builtin(main_string, sub_string):\n",
        "    return main_string.count(sub_string)\n",
        "\n",
        "# Input from the user\n",
        "main_string = input(\"Enter the main string: \")\n",
        "sub_string = input(\"Enter the substring to find: \")\n",
        "\n",
        "# Count and display the result\n",
        "occurrences = count_substring_builtin(main_string, sub_string)\n",
        "print(f\"The substring '{sub_string}' occurs {occurrences} time(s) in the main string.\")"
      ],
      "metadata": {
        "id": "Zg9x7dGad2-f"
      },
      "execution_count": null,
      "outputs": []
    },
    {
      "cell_type": "code",
      "source": [
        "# Write a Python function to reverse a string if its length is a multiple of 4.\n",
        "def reverse_string(string):\n",
        "  st = str(string).lower()\n",
        "  if len(st)/4:\n",
        "    st = st[::-1]\n",
        "  else:\n",
        "    pass\n",
        "  print(st)\n",
        "\n",
        "reverse_string(\"West\")"
      ],
      "metadata": {
        "id": "ydAuo-t-edoF"
      },
      "execution_count": null,
      "outputs": []
    },
    {
      "cell_type": "code",
      "source": [
        "# word counter in python string\n",
        "from collections import Counter\n",
        "import re\n",
        "\n",
        "# Function to count occurrences of each word in a string\n",
        "def count_word_occurrences(text):\n",
        "    # Use regular expressions to find words and convert them to lowercase\n",
        "    words = re.findall(r'\\b\\w+\\b', text.lower())\n",
        "    return Counter(words)\n",
        "\n",
        "# Input from the user\n",
        "text = input(\"Enter the text: \")\n",
        "\n",
        "# Count occurrences and display the result\n",
        "word_counts = count_word_occurrences(text)\n",
        "for word, count in word_counts.items():\n",
        "    print(f\"'{word}': {count}\")"
      ],
      "metadata": {
        "id": "58wqb6NHmgoX"
      },
      "execution_count": null,
      "outputs": []
    },
    {
      "cell_type": "code",
      "source": [
        "# Write a Python program to count the number of characters (character frequency) in a string\n",
        "def count_char(text):\n",
        "  words = re.findall(r'\\b\\w+\\b', text.lower())\n",
        "  joined_words = \"\".join(words)\n",
        "  return Counter(joined_words)\n",
        "\n",
        "text = input(\"Enter the text: \")\n",
        "\n",
        "char_counts = count_char(text)\n",
        "for char, count in char_counts.items():\n",
        "  print(f\"'{char}':{count}\")"
      ],
      "metadata": {
        "id": "ZzZ8zIf4oS6f"
      },
      "execution_count": null,
      "outputs": []
    },
    {
      "cell_type": "code",
      "source": [
        "# Write a Python program to add 'in' at the end of a given string (length\n",
        "#should be at least 3). If the given string already ends with 'ing' then\n",
        "#add 'ly' instead if the string length of the given string is less than 3,\n",
        "#leave it unchanged.\n",
        "def modify_string(s):\n",
        "    # Check if the string length is less than 3\n",
        "    if len(s) < 3:\n",
        "        return s\n",
        "\n",
        "    # Check if the string ends with 'ing'\n",
        "    if s.endswith('ing'):\n",
        "        return s + 'ly'\n",
        "    else:\n",
        "        return s + 'in'\n",
        "\n",
        "# Input from the user\n",
        "input_string = input(\"Enter a string: \")\n",
        "\n",
        "# Modify the string according to the rules\n",
        "result = modify_string(input_string)\n",
        "\n",
        "# Display the result\n",
        "print(\"Modified string:\", result)"
      ],
      "metadata": {
        "id": "xP4kPok1rIg3"
      },
      "execution_count": null,
      "outputs": []
    },
    {
      "cell_type": "code",
      "source": [
        "#Write a Python program to get a single string from two given strings,\n",
        "#separated by a space and swap the first two characters of each string.\n",
        "\n",
        "def single_string(text1, text2):\n",
        "  text1_2 = text1[:2]\n",
        "  text2_2 = text2[:2]\n",
        "\n",
        "  sw1 = text2_2 + text1[2:]\n",
        "  sw2 = text1_2 + text2[2:]\n",
        "\n",
        "  sist = sw1 + \" \" +sw2\n",
        "  return str(sist)\n",
        "\n",
        "result = single_string('python', \"nice\")\n",
        "print(result)"
      ],
      "metadata": {
        "id": "AZhrTI5yrLi3"
      },
      "execution_count": null,
      "outputs": []
    },
    {
      "cell_type": "code",
      "source": [
        "# Write a Python program to remove duplicates from a list.\n",
        "def remove_dup(lis):\n",
        "  return list(set(lis))\n",
        "\n",
        "output = remove_dup([1,2,3,4,4,5,5,6])\n",
        "print(output)"
      ],
      "metadata": {
        "id": "5tjjtX5L0W8P"
      },
      "execution_count": null,
      "outputs": []
    }
  ]
}