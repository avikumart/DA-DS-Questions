{
  "nbformat": 4,
  "nbformat_minor": 0,
  "metadata": {
    "colab": {
      "provenance": []
    },
    "kernelspec": {
      "name": "python3",
      "display_name": "Python 3"
    },
    "language_info": {
      "name": "python"
    }
  },
  "cells": [
    {
      "cell_type": "code",
      "execution_count": 1,
      "metadata": {
        "id": "KeZMtJHBvZk6"
      },
      "outputs": [],
      "source": [
        "# new question to start"
      ]
    },
    {
      "cell_type": "code",
      "source": [
        "# Two dictionaries\n",
        "dict1 = {'a': 1, 'b': 2}\n",
        "dict2 = {'c': 3, 'd': 4}\n",
        "\n",
        "# Merge dict2 into dict1 using update()\n",
        "dict1.update(dict2)\n",
        "\n",
        "print(\"Merged Dictionary:\", dict1)"
      ],
      "metadata": {
        "colab": {
          "base_uri": "https://localhost:8080/"
        },
        "id": "5NNOCVojy7LG",
        "outputId": "5978ce45-00a6-4f67-b9c0-a80647d23d5f"
      },
      "execution_count": 2,
      "outputs": [
        {
          "output_type": "stream",
          "name": "stdout",
          "text": [
            "Merged Dictionary: {'a': 1, 'b': 2, 'c': 3, 'd': 4}\n"
          ]
        }
      ]
    },
    {
      "cell_type": "code",
      "source": [
        "# merge using unpacking operator\n",
        "dict3 = {**dict1,**dict2}\n",
        "print(dict3)"
      ],
      "metadata": {
        "colab": {
          "base_uri": "https://localhost:8080/"
        },
        "id": "LsHBLWXB556f",
        "outputId": "b3dad2ad-baf1-4143-8d8d-a1f3d71d8101"
      },
      "execution_count": 3,
      "outputs": [
        {
          "output_type": "stream",
          "name": "stdout",
          "text": [
            "{'a': 1, 'b': 2, 'c': 3, 'd': 4}\n"
          ]
        }
      ]
    },
    {
      "cell_type": "code",
      "source": [
        "#32)Write a Python program to remove duplicates from a list.\n",
        "my_list = [1, 2, 2, 3, 4, 4, 5]\n",
        "\n",
        "my_list_no_duplicates = list(set(my_list))\n",
        "\n",
        "print(\"List after removing duplicates:\", my_list_no_duplicates)"
      ],
      "metadata": {
        "colab": {
          "base_uri": "https://localhost:8080/"
        },
        "id": "UZf-3yFpxvXm",
        "outputId": "78ddf133-2938-4fd6-eb5e-f64f1c8d1cb9"
      },
      "execution_count": 5,
      "outputs": [
        {
          "output_type": "stream",
          "name": "stdout",
          "text": [
            "List after removing duplicates: [1, 2, 3, 4, 5]\n"
          ]
        }
      ]
    },
    {
      "cell_type": "code",
      "source": [
        "#Write a Python function that takes two lists and returns true if they\n",
        "def have_common_member(list1, list2):\n",
        "    # Check if there is any common element using set intersection\n",
        "    for item in list1:\n",
        "        if item in list2:\n",
        "            return True\n",
        "    return False\n",
        "\n",
        "# Example usage\n",
        "list1 = [1, 2, 3, 4, 5]\n",
        "list2 = [5, 6, 7, 8, 9]\n",
        "\n",
        "print(have_common_member(list1, list2))"
      ],
      "metadata": {
        "colab": {
          "base_uri": "https://localhost:8080/"
        },
        "id": "kyU1JTjHyKQ5",
        "outputId": "0ec919c6-b2a0-494a-ba13-ba83e2b88784"
      },
      "execution_count": 6,
      "outputs": [
        {
          "output_type": "stream",
          "name": "stdout",
          "text": [
            "True\n"
          ]
        }
      ]
    },
    {
      "cell_type": "code",
      "source": [
        "# Write a Python program to generate and print a list of first and last 5\n",
        "# elements where the values are square of numbers between 1 and 30.\n",
        "def generate_squares():\n",
        "    # Generate a list of squares of numbers between 1 and 30\n",
        "    square_list = [x**2 for x in range(1, 31)]\n",
        "\n",
        "    # Get the first 5 and last 5 elements\n",
        "    result = square_list[:5] + square_list[-5:]\n",
        "\n",
        "    return result\n",
        "\n",
        "# Call the function and print the result\n",
        "print(\"First and last 5 elements:\", generate_squares())"
      ],
      "metadata": {
        "colab": {
          "base_uri": "https://localhost:8080/"
        },
        "id": "RIWEeUGaya4w",
        "outputId": "49d2c780-b49c-498d-d387-1ef80ee6d459"
      },
      "execution_count": 7,
      "outputs": [
        {
          "output_type": "stream",
          "name": "stdout",
          "text": [
            "First and last 5 elements: [1, 4, 9, 16, 25, 676, 729, 784, 841, 900]\n"
          ]
        }
      ]
    },
    {
      "cell_type": "code",
      "source": [
        "# 37)Write a Python program to convert a list of characters into a string.\n",
        "def list_to_string(char_list):\n",
        "    return ''.join(char_list)\n",
        "\n",
        "# Example usage\n",
        "char_list = ['H', 'e', 'l', 'l', 'o']\n",
        "result = list_to_string(char_list)\n",
        "print(\"Converted String:\", result)"
      ],
      "metadata": {
        "colab": {
          "base_uri": "https://localhost:8080/"
        },
        "id": "qdHmfrU9ytBv",
        "outputId": "1cf5a986-1a61-45d7-f0f8-ebaaf03fb0c2"
      },
      "execution_count": 8,
      "outputs": [
        {
          "output_type": "stream",
          "name": "stdout",
          "text": [
            "Converted String: Hello\n"
          ]
        }
      ]
    },
    {
      "cell_type": "code",
      "source": [
        "# 38)Write a Python program to select an item randomly from a list.\n",
        "import random\n",
        "def rand_iterm(my_li):\n",
        "  return random.choice(my_li)\n",
        "\n",
        "my_list = [10, 20, 30, 40, 50]\n",
        "random_item = rand_iterm(my_list)\n",
        "print(\"Randomly selected item:\", random_item)"
      ],
      "metadata": {
        "colab": {
          "base_uri": "https://localhost:8080/"
        },
        "id": "kPiYF7AIyzcr",
        "outputId": "0073509b-8a03-44aa-c684-56387ad8aab0"
      },
      "execution_count": 10,
      "outputs": [
        {
          "output_type": "stream",
          "name": "stdout",
          "text": [
            "Randomly selected item: 40\n"
          ]
        }
      ]
    },
    {
      "cell_type": "code",
      "source": [
        "# 41)Write a Python program to check whether a list contains a sub list\n",
        "def contains_sublist(main_list, sub_list):\n",
        "    # Convert both lists to strings and check if the sub_list appears in the main_list\n",
        "    return str(sub_list)[1:-1] in str(main_list)\n",
        "\n",
        "main_list = [1, 2, 3, 4, 5, 6, 7]\n",
        "sub_list = [3, 4, 5]\n",
        "\n",
        "if contains_sublist(main_list, sub_list):\n",
        "    print(\"The main list contains the sublist.\")\n",
        "else:\n",
        "    print(\"The main list does not contain the sublist.\")"
      ],
      "metadata": {
        "id": "90sZ_EOlzNbh"
      },
      "execution_count": null,
      "outputs": []
    },
    {
      "cell_type": "code",
      "source": [
        "# 46)Write a Python program to convert a list of tuples into a dictionary.\n",
        "def list_of_tuples_to_dict(tuples_list):\n",
        "    return dict(tuples_list)\n",
        "\n",
        "# Example usage\n",
        "tuples_list = [(1, 'apple'), (2, 'banana'), (3, 'cherry')]\n",
        "result_dict = list_of_tuples_to_dict(tuples_list)\n",
        "\n",
        "print(result_dict)"
      ],
      "metadata": {
        "colab": {
          "base_uri": "https://localhost:8080/"
        },
        "id": "sBgliFaszm1p",
        "outputId": "80daa628-509a-4e34-e906-f901528d7f9d"
      },
      "execution_count": 12,
      "outputs": [
        {
          "output_type": "stream",
          "name": "stdout",
          "text": [
            "{1: 'apple', 2: 'banana', 3: 'cherry'}\n"
          ]
        }
      ]
    },
    {
      "cell_type": "code",
      "source": [
        "# 49)Write a Python script to concatenate following dictionaries to create\n",
        "#a new one.\n",
        "def concatenate_dictionaries(*dicts):\n",
        "    result = {}\n",
        "\n",
        "    for dictionary in dicts:\n",
        "        result.update(dictionary)\n",
        "\n",
        "    return result\n",
        "\n",
        "# Example dictionaries\n",
        "dict1 = {1: 'apple', 2: 'banana'}\n",
        "dict2 = {3: 'cherry', 4: 'date'}\n",
        "dict3 = {5: 'elderberry', 6: 'fig'}\n",
        "\n",
        "# Concatenate the dictionaries\n",
        "new_dict = concatenate_dictionaries(dict1, dict2, dict3)\n",
        "\n",
        "print(\"Concatenated Dictionary:\", new_dict)"
      ],
      "metadata": {
        "colab": {
          "base_uri": "https://localhost:8080/"
        },
        "id": "__tGio3p0Auy",
        "outputId": "c1595fc7-02e3-4509-ba53-be4f54c76446"
      },
      "execution_count": 13,
      "outputs": [
        {
          "output_type": "stream",
          "name": "stdout",
          "text": [
            "Concatenated Dictionary: {1: 'apple', 2: 'banana', 3: 'cherry', 4: 'date', 5: 'elderberry', 6: 'fig'}\n"
          ]
        }
      ]
    },
    {
      "cell_type": "code",
      "source": [
        "# 50)Write a Python script to check if a given key already exists in a\n",
        "# dictionary.\n",
        "def check_key_in_dict(my_dict, key):\n",
        "    if key in my_dict:\n",
        "        return True\n",
        "    else:\n",
        "        return False\n",
        "\n",
        "# Example usage\n",
        "my_dict = {1: 'apple', 2: 'banana', 3: 'cherry'}\n",
        "key_to_check = 2\n",
        "\n",
        "if check_key_in_dict(my_dict, key_to_check):\n",
        "    print(f\"Key {key_to_check} exists in the dictionary.\")\n",
        "else:\n",
        "    print(f\"Key {key_to_check} does not exist in the dictionary.\")"
      ],
      "metadata": {
        "colab": {
          "base_uri": "https://localhost:8080/"
        },
        "id": "tQ2629t80ZT6",
        "outputId": "42035283-e177-4f71-f920-866d87c4393a"
      },
      "execution_count": 14,
      "outputs": [
        {
          "output_type": "stream",
          "name": "stdout",
          "text": [
            "Key 2 exists in the dictionary.\n"
          ]
        }
      ]
    },
    {
      "cell_type": "code",
      "source": [
        "# 53)Write a Python script to print a dictionary where the keys are\n",
        "# numbers between 1 and 15.\n",
        "def create_dict_with_keys(start, end):\n",
        "    return {key: None for key in range(start, end + 1)}\n",
        "\n",
        "# Define the range\n",
        "start_number = 1\n",
        "end_number = 15\n",
        "\n",
        "# Create the dictionary\n",
        "my_dict = create_dict_with_keys(start_number, end_number)\n",
        "\n",
        "# Print the dictionary\n",
        "print(\"Dictionary with keys between 1 and 15:\", my_dict)"
      ],
      "metadata": {
        "colab": {
          "base_uri": "https://localhost:8080/"
        },
        "id": "saF6qEs30quS",
        "outputId": "b56db9c5-bbb2-46ad-afcf-f1b0cc21edd8"
      },
      "execution_count": 15,
      "outputs": [
        {
          "output_type": "stream",
          "name": "stdout",
          "text": [
            "Dictionary with keys between 1 and 15: {1: None, 2: None, 3: None, 4: None, 5: None, 6: None, 7: None, 8: None, 9: None, 10: None, 11: None, 12: None, 13: None, 14: None, 15: None}\n"
          ]
        }
      ]
    },
    {
      "cell_type": "code",
      "source": [
        "# 63)Write a Python function to check whether a number is perfect or not.\n",
        "def is_perfect_number(num):\n",
        "    if num <= 0:\n",
        "        return False\n",
        "\n",
        "    sum_of_divisors = sum(i for i in range(1, num) if num % i == 0)\n",
        "\n",
        "    return sum_of_divisors == num\n",
        "number = 28\n",
        "if is_perfect_number(number):\n",
        "    print(f\"{number} is a perfect number.\")\n",
        "else:\n",
        "    print(f\"{number} is not a perfect number.\")"
      ],
      "metadata": {
        "colab": {
          "base_uri": "https://localhost:8080/"
        },
        "id": "zezI6OiY3uZ6",
        "outputId": "00cdf82a-083c-44f7-e82c-ce9f6ff8bda0"
      },
      "execution_count": 16,
      "outputs": [
        {
          "output_type": "stream",
          "name": "stdout",
          "text": [
            "28 is a perfect number.\n"
          ]
        }
      ]
    }
  ]
}