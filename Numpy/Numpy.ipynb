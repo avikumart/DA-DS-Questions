{
  "nbformat": 4,
  "nbformat_minor": 0,
  "metadata": {
    "colab": {
      "provenance": []
    },
    "kernelspec": {
      "name": "python3",
      "display_name": "Python 3"
    },
    "language_info": {
      "name": "python"
    }
  },
  "cells": [
    {
      "cell_type": "code",
      "execution_count": 1,
      "metadata": {
        "id": "lgk3mhfK6B7W"
      },
      "outputs": [],
      "source": [
        "import numpy as np"
      ]
    },
    {
      "cell_type": "code",
      "source": [
        "# How to Creating a 3x3 Identity Matrix with Float Data Type?\n",
        "import numpy as np\n",
        "\n",
        "# Create a 3x3 identity matrix with float data type\n",
        "identity_matrix = np.eye(3, dtype=float)\n",
        "\n",
        "# Print the matrix\n",
        "print(\"3x3 Identity Matrix with float data type:\")\n",
        "print(identity_matrix)"
      ],
      "metadata": {
        "colab": {
          "base_uri": "https://localhost:8080/"
        },
        "id": "3r3gLytJ_N1c",
        "outputId": "496c329b-d398-40a0-f091-dacc7f1bfae4"
      },
      "execution_count": null,
      "outputs": [
        {
          "output_type": "stream",
          "name": "stdout",
          "text": [
            "3x3 Identity Matrix with float data type:\n",
            "[[1. 0. 0.]\n",
            " [0. 1. 0.]\n",
            " [0. 0. 1.]]\n"
          ]
        }
      ]
    },
    {
      "cell_type": "code",
      "source": [
        "np.arange(3,10)"
      ],
      "metadata": {
        "colab": {
          "base_uri": "https://localhost:8080/"
        },
        "id": "PobfAgNNrTFl",
        "outputId": "9e16e842-a641-4fb4-8582-4adc9cb33b71"
      },
      "execution_count": 4,
      "outputs": [
        {
          "output_type": "execute_result",
          "data": {
            "text/plain": [
              "array([3, 4, 5, 6, 7, 8, 9])"
            ]
          },
          "metadata": {},
          "execution_count": 4
        }
      ]
    },
    {
      "cell_type": "code",
      "source": [
        "np.array([10.3,4.5,7.8,1.0])"
      ],
      "metadata": {
        "colab": {
          "base_uri": "https://localhost:8080/"
        },
        "id": "GWeHy3LsrogE",
        "outputId": "6e222371-65ad-46bb-fea1-39e6dfa42540"
      },
      "execution_count": 5,
      "outputs": [
        {
          "output_type": "execute_result",
          "data": {
            "text/plain": [
              "array([10.3,  4.5,  7.8,  1. ])"
            ]
          },
          "metadata": {},
          "execution_count": 5
        }
      ]
    },
    {
      "cell_type": "code",
      "source": [
        "# Reshaping a 1D Array into a 2D Array\n",
        "# Create a 1D array with 6 elements\n",
        "arr_1d = np.array([1, 2, 3, 4, 5, 6])\n",
        "\n",
        "# Reshape it into a 2D array (2 rows and 3 columns)\n",
        "arr_2d = arr_1d.reshape(2, 3)\n",
        "\n",
        "# Print the reshaped 2D array\n",
        "print(\"Reshaped 2D Array:\")\n",
        "print(arr_2d)"
      ],
      "metadata": {
        "colab": {
          "base_uri": "https://localhost:8080/"
        },
        "id": "A3-PXQczrVrt",
        "outputId": "319ca707-370d-43fc-cb07-734b853de77c"
      },
      "execution_count": 6,
      "outputs": [
        {
          "output_type": "stream",
          "name": "stdout",
          "text": [
            "Reshaped 2D Array:\n",
            "[[1 2 3]\n",
            " [4 5 6]]\n"
          ]
        }
      ]
    },
    {
      "cell_type": "code",
      "source": [
        "#How to get the common items between two pythons\n",
        "#NumPy? Input:\n",
        "a = np. array ([1,2,3,2,3,4,3,4,5,6])\n",
        "b = np. array ([7,2,10,2,7,4,9,4,9,8])\n",
        "\n",
        "c = np.intersect1d(a,b)\n",
        "c"
      ],
      "metadata": {
        "colab": {
          "base_uri": "https://localhost:8080/"
        },
        "id": "n0qOz5bmr_bF",
        "outputId": "aa16a427-f544-49ec-8004-8fc2e1436bf7"
      },
      "execution_count": 8,
      "outputs": [
        {
          "output_type": "execute_result",
          "data": {
            "text/plain": [
              "array([2, 4])"
            ]
          },
          "metadata": {},
          "execution_count": 8
        }
      ]
    },
    {
      "cell_type": "code",
      "source": [
        "#From array a remove all items present in\n",
        "#array b Input:\n",
        "a = np. array ([1,2,3,4,5])\n",
        "b = np. array ([5,6,7,8,9])\n",
        "\n",
        "result = np.setdiff1d(a, b)\n",
        "result"
      ],
      "metadata": {
        "colab": {
          "base_uri": "https://localhost:8080/"
        },
        "id": "7WmfjvTUsMdX",
        "outputId": "2bedcb07-a27e-4e00-cd6b-d2d7a1985618"
      },
      "execution_count": 11,
      "outputs": [
        {
          "output_type": "execute_result",
          "data": {
            "text/plain": [
              "array([1, 2, 3, 4])"
            ]
          },
          "metadata": {},
          "execution_count": 11
        }
      ]
    },
    {
      "cell_type": "code",
      "source": [
        "#Limit the number of items printed in python NumPy array a to a maximum of\n",
        "#6 elements.\n",
        "a = np.arange(15)\n",
        "\n",
        "np.set_printoptions(threshold=6)\n",
        "\n",
        "# Print the array\n",
        "print(a)"
      ],
      "metadata": {
        "colab": {
          "base_uri": "https://localhost:8080/"
        },
        "id": "tf4SuTp9sedS",
        "outputId": "a5a45204-3943-48f0-b530-710665575c64"
      },
      "execution_count": 13,
      "outputs": [
        {
          "output_type": "stream",
          "name": "stdout",
          "text": [
            "[ 0  1  2 ... 12 13 14]\n"
          ]
        }
      ]
    },
    {
      "cell_type": "code",
      "source": [
        "#Drop all nan values from a 1D NumPy\n",
        "#array Input:\n",
        "a = np. array ([1,2,3, np.nan,5,6,7, np.nan])\n",
        "\n",
        "a_cleaned = a[~np.isnan(a)]\n",
        "a_cleaned"
      ],
      "metadata": {
        "colab": {
          "base_uri": "https://localhost:8080/"
        },
        "id": "OC5fEDt_tlG6",
        "outputId": "264111f9-256f-4635-f864-1093e3e79ff8"
      },
      "execution_count": 16,
      "outputs": [
        {
          "output_type": "execute_result",
          "data": {
            "text/plain": [
              "array([1., 2., 3., 5., 6., 7.])"
            ]
          },
          "metadata": {},
          "execution_count": 16
        }
      ]
    },
    {
      "cell_type": "code",
      "source": [
        "# Create a 1D NumPy array of the first 20 natural numbers and a\n",
        "# 2D NumPy array of shape (4, 5) with values ranging from 1 to 20.\n",
        "array_1d = np.arange(1, 21)\n",
        "\n",
        "# 2D array of shape (4, 5) with values ranging from 1 to 20\n",
        "array_2d = array_1d.reshape(4, 5)\n",
        "array_2d"
      ],
      "metadata": {
        "colab": {
          "base_uri": "https://localhost:8080/"
        },
        "id": "S_95w0dQt2--",
        "outputId": "74b06ee4-a6ec-4e35-fcb1-30711270d6c3"
      },
      "execution_count": 17,
      "outputs": [
        {
          "output_type": "execute_result",
          "data": {
            "text/plain": [
              "array([[ 1,  2,  3,  4,  5],\n",
              "       [ 6,  7,  8,  9, 10],\n",
              "       [11, 12, 13, 14, 15],\n",
              "       [16, 17, 18, 19, 20]])"
            ]
          },
          "metadata": {},
          "execution_count": 17
        }
      ]
    },
    {
      "cell_type": "code",
      "source": [
        "# Given a 3D NumPy array of shape (2, 3, 4), find its shape, size,\n",
        "#number of dimensions, and data type. Change its data type to float64 and verify\n",
        "#the change.\n",
        "\n",
        "arr = np.array([[[1,2,3,4],\n",
        "                [2,6,7,8],\n",
        "                 [2,3,5,8]],\n",
        "                [[23,45,67,8],\n",
        "                [2,5,67,8],\n",
        "                 [445,7,8,9]]])\n",
        "arr.shape"
      ],
      "metadata": {
        "colab": {
          "base_uri": "https://localhost:8080/"
        },
        "id": "-gs22ebgwkcE",
        "outputId": "b79c8ee3-03ff-4ff5-8e2b-5638ff6cf24e"
      },
      "execution_count": 22,
      "outputs": [
        {
          "output_type": "execute_result",
          "data": {
            "text/plain": [
              "(2, 3, 4)"
            ]
          },
          "metadata": {},
          "execution_count": 22
        }
      ]
    },
    {
      "cell_type": "code",
      "source": [
        "arr.size"
      ],
      "metadata": {
        "colab": {
          "base_uri": "https://localhost:8080/"
        },
        "id": "0eoa6O87xJSi",
        "outputId": "232fbe62-f8dc-4577-9d30-df6d452313d0"
      },
      "execution_count": 24,
      "outputs": [
        {
          "output_type": "execute_result",
          "data": {
            "text/plain": [
              "24"
            ]
          },
          "metadata": {},
          "execution_count": 24
        }
      ]
    },
    {
      "cell_type": "code",
      "source": [
        "arr.ndim"
      ],
      "metadata": {
        "colab": {
          "base_uri": "https://localhost:8080/"
        },
        "id": "yc8LsdenxwKQ",
        "outputId": "0d1d8139-97be-4b24-f948-050f27f292f3"
      },
      "execution_count": 25,
      "outputs": [
        {
          "output_type": "execute_result",
          "data": {
            "text/plain": [
              "3"
            ]
          },
          "metadata": {},
          "execution_count": 25
        }
      ]
    },
    {
      "cell_type": "code",
      "source": [
        "arr.dtype"
      ],
      "metadata": {
        "colab": {
          "base_uri": "https://localhost:8080/"
        },
        "id": "_dOS93Kkx0oo",
        "outputId": "4a190754-9ed4-4ecc-b006-26810b2e6a62"
      },
      "execution_count": 26,
      "outputs": [
        {
          "output_type": "execute_result",
          "data": {
            "text/plain": [
              "dtype('int64')"
            ]
          },
          "metadata": {},
          "execution_count": 26
        }
      ]
    },
    {
      "cell_type": "code",
      "source": [
        "arr = arr.astype('float64')\n",
        "arr.dtype"
      ],
      "metadata": {
        "colab": {
          "base_uri": "https://localhost:8080/"
        },
        "id": "RLE-mXiFx2Kt",
        "outputId": "5f4c8270-0260-46a7-f538-3a4363e08772"
      },
      "execution_count": 28,
      "outputs": [
        {
          "output_type": "execute_result",
          "data": {
            "text/plain": [
              "dtype('float64')"
            ]
          },
          "metadata": {},
          "execution_count": 28
        }
      ]
    },
    {
      "cell_type": "code",
      "source": [
        "ar = np.arange(1,20)\n",
        "ar"
      ],
      "metadata": {
        "colab": {
          "base_uri": "https://localhost:8080/"
        },
        "id": "1h_TpENEx-el",
        "outputId": "a1e0f4e2-ebb9-45be-9b43-a521bf54896a"
      },
      "execution_count": 33,
      "outputs": [
        {
          "output_type": "execute_result",
          "data": {
            "text/plain": [
              "array([ 1,  2,  3, ..., 17, 18, 19])"
            ]
          },
          "metadata": {},
          "execution_count": 33
        }
      ]
    },
    {
      "cell_type": "code",
      "source": [
        "ar.argsort()"
      ],
      "metadata": {
        "colab": {
          "base_uri": "https://localhost:8080/"
        },
        "id": "MuJ28gk5yGQc",
        "outputId": "f0391a44-4ebb-4c15-c71b-67c0c55b284e"
      },
      "execution_count": 32,
      "outputs": [
        {
          "output_type": "execute_result",
          "data": {
            "text/plain": [
              "array([ 0,  1,  2, ..., 16, 17, 18])"
            ]
          },
          "metadata": {},
          "execution_count": 32
        }
      ]
    },
    {
      "cell_type": "code",
      "source": [
        "# Reshape a 1D array of 12 elements into a 3x4 2D array and then\n",
        "#flatten it back into a 1D array using ravel (). Verify that the flattened array\n",
        "#matches the original.\n",
        "\n",
        "# Create a 1D array of 12 elements\n",
        "original_array = np.arange(12)\n",
        "\n",
        "# Reshape it into a 3x4 2D array\n",
        "reshaped_array = original_array.reshape(3, 4)\n",
        "\n",
        "# Flatten it back into a 1D array using ravel()\n",
        "flattened_array = reshaped_array.ravel()\n",
        "\n",
        "# Verify that the flattened array matches the original\n",
        "arrays_match = np.array_equal(original_array, flattened_array)\n",
        "arrays_match"
      ],
      "metadata": {
        "colab": {
          "base_uri": "https://localhost:8080/"
        },
        "id": "_sMlgfZXyK0-",
        "outputId": "f22b2328-8337-4839-dda3-582813cdf907"
      },
      "execution_count": 35,
      "outputs": [
        {
          "output_type": "execute_result",
          "data": {
            "text/plain": [
              "True"
            ]
          },
          "metadata": {},
          "execution_count": 35
        }
      ]
    },
    {
      "cell_type": "code",
      "source": [
        "# Given two arrays, a = np. array ([1, 2, 3]) and b = np. array ([4,\n",
        "#5, 6]), perform element-wise addition, subtraction, multiplication, and\n",
        "# division. Explain the behavior when dividing by zero.\n",
        "\n",
        "a = np.array([1,2,3])\n",
        "b = np.array([4,5,6])\n",
        "\n",
        "a_sum = a + b\n",
        "a_sum"
      ],
      "metadata": {
        "colab": {
          "base_uri": "https://localhost:8080/"
        },
        "id": "B_yJ3CPcy4A3",
        "outputId": "087014fa-4f56-4ed7-8c71-659ad0c4da66"
      },
      "execution_count": 37,
      "outputs": [
        {
          "output_type": "execute_result",
          "data": {
            "text/plain": [
              "array([5, 7, 9])"
            ]
          },
          "metadata": {},
          "execution_count": 37
        }
      ]
    },
    {
      "cell_type": "code",
      "source": [
        "a - b"
      ],
      "metadata": {
        "colab": {
          "base_uri": "https://localhost:8080/"
        },
        "id": "WWE-h-Q7zKck",
        "outputId": "726c2169-39d0-492f-ed13-fd24682b56eb"
      },
      "execution_count": 38,
      "outputs": [
        {
          "output_type": "execute_result",
          "data": {
            "text/plain": [
              "array([-3, -3, -3])"
            ]
          },
          "metadata": {},
          "execution_count": 38
        }
      ]
    },
    {
      "cell_type": "code",
      "source": [
        "a*b"
      ],
      "metadata": {
        "colab": {
          "base_uri": "https://localhost:8080/"
        },
        "id": "Of95B3jezN30",
        "outputId": "3fae6cee-5938-4d47-b503-e31a7ab57040"
      },
      "execution_count": 39,
      "outputs": [
        {
          "output_type": "execute_result",
          "data": {
            "text/plain": [
              "array([ 4, 10, 18])"
            ]
          },
          "metadata": {},
          "execution_count": 39
        }
      ]
    },
    {
      "cell_type": "code",
      "source": [
        "a/b"
      ],
      "metadata": {
        "colab": {
          "base_uri": "https://localhost:8080/"
        },
        "id": "CeT8XddIzOuH",
        "outputId": "e36216ab-96af-4ff1-9328-dac44170ca0e"
      },
      "execution_count": 40,
      "outputs": [
        {
          "output_type": "execute_result",
          "data": {
            "text/plain": [
              "array([0.25, 0.4 , 0.5 ])"
            ]
          },
          "metadata": {},
          "execution_count": 40
        }
      ]
    },
    {
      "cell_type": "code",
      "source": [
        "a/0"
      ],
      "metadata": {
        "colab": {
          "base_uri": "https://localhost:8080/"
        },
        "id": "JE0_MhnWzRIj",
        "outputId": "912fe631-5c23-4aaa-ec9a-6603b024c8e3"
      },
      "execution_count": 41,
      "outputs": [
        {
          "output_type": "stream",
          "name": "stderr",
          "text": [
            "<ipython-input-41-deacdc4ccabc>:1: RuntimeWarning: divide by zero encountered in divide\n",
            "  a/0\n"
          ]
        },
        {
          "output_type": "execute_result",
          "data": {
            "text/plain": [
              "array([inf, inf, inf])"
            ]
          },
          "metadata": {},
          "execution_count": 41
        }
      ]
    },
    {
      "cell_type": "code",
      "source": [
        "##Create a 2D array of shape (3, 1) and a 1D array of length 3. Perform\n",
        "#element-wise addition using broadcasting. Explain how broadcasting rules apply\n",
        "#in this scenario.\n",
        "\n",
        "ar = np.array([[1],\n",
        "               [34],\n",
        "               [56]])\n",
        "\n",
        "ar.shape\n",
        "\n",
        "ar1 = np.array([1,3,5])\n",
        "\n",
        "ar + ar1"
      ],
      "metadata": {
        "colab": {
          "base_uri": "https://localhost:8080/"
        },
        "id": "21FqYuX5zYJz",
        "outputId": "60bb1990-3edc-42f1-d2b5-7daa5bd21322"
      },
      "execution_count": 46,
      "outputs": [
        {
          "output_type": "execute_result",
          "data": {
            "text/plain": [
              "array([[ 2,  4,  6],\n",
              "       [35, 37, 39],\n",
              "       [57, 59, 61]])"
            ]
          },
          "metadata": {},
          "execution_count": 46
        }
      ]
    },
    {
      "cell_type": "code",
      "source": [
        "#Given a 4x4 array of random integers, use indexing and slicing\n",
        "#to extract:\n",
        "\n",
        "#o The entire second row\n",
        "##]o The last column\n",
        "#o The subarray consisting of the first two rows and first two columns\n",
        "\n",
        "array = np.random.randint(1,50, size=(4,4))\n",
        "array"
      ],
      "metadata": {
        "colab": {
          "base_uri": "https://localhost:8080/"
        },
        "id": "98_AqU1R0ZE_",
        "outputId": "9cdbe78e-b314-45a9-fb80-e8cf92f62616"
      },
      "execution_count": 47,
      "outputs": [
        {
          "output_type": "execute_result",
          "data": {
            "text/plain": [
              "array([[42, 27, 34, 41],\n",
              "       [ 3, 21, 38, 32],\n",
              "       [39, 23,  6, 24],\n",
              "       [ 1, 43, 27, 39]])"
            ]
          },
          "metadata": {},
          "execution_count": 47
        }
      ]
    },
    {
      "cell_type": "code",
      "source": [
        "array[1,:]"
      ],
      "metadata": {
        "colab": {
          "base_uri": "https://localhost:8080/"
        },
        "id": "adWxP8kx4Lr-",
        "outputId": "9b96d788-d2de-4cd3-e748-256976874175"
      },
      "execution_count": 48,
      "outputs": [
        {
          "output_type": "execute_result",
          "data": {
            "text/plain": [
              "array([ 3, 21, 38, 32])"
            ]
          },
          "metadata": {},
          "execution_count": 48
        }
      ]
    },
    {
      "cell_type": "code",
      "source": [
        "array[:,3]"
      ],
      "metadata": {
        "colab": {
          "base_uri": "https://localhost:8080/"
        },
        "id": "e0Ms52T-4QM4",
        "outputId": "eb18daf7-59bb-4c08-a997-efd13609246f"
      },
      "execution_count": 49,
      "outputs": [
        {
          "output_type": "execute_result",
          "data": {
            "text/plain": [
              "array([41, 32, 24, 39])"
            ]
          },
          "metadata": {},
          "execution_count": 49
        }
      ]
    },
    {
      "cell_type": "code",
      "source": [
        "array[0:2,0:2]"
      ],
      "metadata": {
        "colab": {
          "base_uri": "https://localhost:8080/"
        },
        "id": "XXYlpg-24hnJ",
        "outputId": "4cee2ed6-5c38-4c5c-f209-a8aedb83cc78"
      },
      "execution_count": 50,
      "outputs": [
        {
          "output_type": "execute_result",
          "data": {
            "text/plain": [
              "array([[42, 27],\n",
              "       [ 3, 21]])"
            ]
          },
          "metadata": {},
          "execution_count": 50
        }
      ]
    },
    {
      "cell_type": "code",
      "source": [
        "#Create a random 4x4 matrix and use NumPy to compute its\n",
        "#eigenvalues and eigenvectors. Verify the eigenvalues by reconstructing the\n",
        "#matrix.\n",
        "\n",
        "matrix =np.random.rand(4,4)\n",
        "matrix"
      ],
      "metadata": {
        "colab": {
          "base_uri": "https://localhost:8080/"
        },
        "id": "XKUTdwta41jN",
        "outputId": "ff451a40-9c52-4cf6-dcd0-14ad75cc1c38"
      },
      "execution_count": 52,
      "outputs": [
        {
          "output_type": "execute_result",
          "data": {
            "text/plain": [
              "array([[0.14448306, 0.37460793, 0.45179218, 0.56793752],\n",
              "       [0.65136067, 0.13083089, 0.41564472, 0.44393738],\n",
              "       [0.28905253, 0.93681839, 0.37534112, 0.73568427],\n",
              "       [0.51892539, 0.52300365, 0.26082425, 0.3925395 ]])"
            ]
          },
          "metadata": {},
          "execution_count": 52
        }
      ]
    },
    {
      "cell_type": "code",
      "source": [
        "eigenvalues, eigenvectors = np.linalg.eig(matrix)\n",
        "print(eigenvalues)\n",
        "print(eigenvectors)"
      ],
      "metadata": {
        "colab": {
          "base_uri": "https://localhost:8080/"
        },
        "id": "gwnEhTxO5Dtx",
        "outputId": "13b5f28c-1ff0-4e04-cbba-32be390a8403"
      },
      "execution_count": 55,
      "outputs": [
        {
          "output_type": "stream",
          "name": "stdout",
          "text": [
            "[ 1.77805674+0.j         -0.3486756 +0.23190175j -0.3486756 -0.23190175j\n",
            " -0.03751097+0.j        ]\n",
            "[[-0.43623375+0.j         -0.08602716-0.4402932j  -0.08602716+0.4402932j\n",
            "   0.01914012+0.j        ]\n",
            " [-0.45390864+0.j         -0.54756872+0.03039876j -0.54756872-0.03039876j\n",
            "  -0.2578089 +0.j        ]\n",
            " [-0.63088336+0.j          0.61182984+0.j          0.61182984-0.j\n",
            "  -0.66942853+0.j        ]\n",
            " [-0.45349008+0.j          0.12894632+0.32714328j  0.12894632-0.32714328j\n",
            "   0.69644358+0.j        ]]\n"
          ]
        }
      ]
    },
    {
      "cell_type": "code",
      "source": [
        "reconstructed_matrix = eigenvectors @ np.diag(eigenvalues) @ np.linalg.inv(eigenvectors)\n",
        "reconstructed_matrix"
      ],
      "metadata": {
        "colab": {
          "base_uri": "https://localhost:8080/"
        },
        "id": "jzCUtjWv5M1t",
        "outputId": "69fc75bc-d447-43e4-8477-8698c35ded2f"
      },
      "execution_count": 57,
      "outputs": [
        {
          "output_type": "execute_result",
          "data": {
            "text/plain": [
              "array([[0.14448306-6.37412953e-18j, 0.37460793+1.19296813e-16j,\n",
              "        0.45179218-3.38763781e-17j, 0.56793752+3.76119842e-18j],\n",
              "       [0.65136067-1.65023093e-17j, 0.13083089+7.32052061e-17j,\n",
              "        0.41564472-3.58569097e-17j, 0.44393738-5.74260687e-19j],\n",
              "       [0.28905253+3.67232310e-17j, 0.93681839+1.67687838e-16j,\n",
              "        0.37534112-4.81189368e-17j, 0.73568427+1.02129115e-17j],\n",
              "       [0.51892539+1.51162933e-17j, 0.52300365+1.04184619e-16j,\n",
              "        0.26082425-3.63148071e-17j, 0.3925395 -3.95297875e-18j]])"
            ]
          },
          "metadata": {},
          "execution_count": 57
        }
      ]
    },
    {
      "cell_type": "code",
      "source": [
        "# Create a 1D array of 27 elements and reshape it into a 3x3x3\n",
        "#3D array. Flatten it back into a 1D array and compare the flattened array\n",
        "#with the original.\n",
        "\n",
        "ar1 = np.arange(0,27)\n",
        "ar1.shape"
      ],
      "metadata": {
        "colab": {
          "base_uri": "https://localhost:8080/"
        },
        "id": "OivNrS315gtZ",
        "outputId": "624456a1-f3aa-4c82-a7ca-815cfd9a0140"
      },
      "execution_count": 58,
      "outputs": [
        {
          "output_type": "execute_result",
          "data": {
            "text/plain": [
              "(27,)"
            ]
          },
          "metadata": {},
          "execution_count": 58
        }
      ]
    },
    {
      "cell_type": "code",
      "source": [
        "ar2 = ar1.reshape(3,3,3)\n",
        "ar2"
      ],
      "metadata": {
        "colab": {
          "base_uri": "https://localhost:8080/"
        },
        "id": "0AhLWx3Y5_sZ",
        "outputId": "bb7649ed-a5cf-4727-d557-c762a5e00c41"
      },
      "execution_count": 60,
      "outputs": [
        {
          "output_type": "execute_result",
          "data": {
            "text/plain": [
              "array([[[ 0,  1,  2],\n",
              "        [ 3,  4,  5],\n",
              "        [ 6,  7,  8]],\n",
              "\n",
              "       [[ 9, 10, 11],\n",
              "        [12, 13, 14],\n",
              "        [15, 16, 17]],\n",
              "\n",
              "       [[18, 19, 20],\n",
              "        [21, 22, 23],\n",
              "        [24, 25, 26]]])"
            ]
          },
          "metadata": {},
          "execution_count": 60
        }
      ]
    },
    {
      "cell_type": "code",
      "source": [
        "ar3 = ar2.ravel()\n",
        "ar3"
      ],
      "metadata": {
        "colab": {
          "base_uri": "https://localhost:8080/"
        },
        "id": "lBApBnX76B1M",
        "outputId": "36615f6f-1c22-4a52-c951-d9f1f0c18821"
      },
      "execution_count": 61,
      "outputs": [
        {
          "output_type": "execute_result",
          "data": {
            "text/plain": [
              "array([ 0,  1,  2, ..., 24, 25, 26])"
            ]
          },
          "metadata": {},
          "execution_count": 61
        }
      ]
    },
    {
      "cell_type": "code",
      "source": [
        "np.array_equal(ar1,ar3)"
      ],
      "metadata": {
        "colab": {
          "base_uri": "https://localhost:8080/"
        },
        "id": "btKniCwB6H3w",
        "outputId": "e341ea0e-be93-47c3-8081-68aad992751c"
      },
      "execution_count": 62,
      "outputs": [
        {
          "output_type": "execute_result",
          "data": {
            "text/plain": [
              "True"
            ]
          },
          "metadata": {},
          "execution_count": 62
        }
      ]
    },
    {
      "cell_type": "code",
      "source": [
        "np.sum(ar1)"
      ],
      "metadata": {
        "colab": {
          "base_uri": "https://localhost:8080/"
        },
        "id": "cmfJFgKZ6ONk",
        "outputId": "a19ab353-d989-47bb-f34c-dd2b66b1e42f"
      },
      "execution_count": 63,
      "outputs": [
        {
          "output_type": "execute_result",
          "data": {
            "text/plain": [
              "351"
            ]
          },
          "metadata": {},
          "execution_count": 63
        }
      ]
    },
    {
      "cell_type": "code",
      "source": [
        "np.mean(ar1)"
      ],
      "metadata": {
        "colab": {
          "base_uri": "https://localhost:8080/"
        },
        "id": "RJ4qnxeU6Umv",
        "outputId": "20703b7c-e42f-4e41-ccba-09f8449f1578"
      },
      "execution_count": 64,
      "outputs": [
        {
          "output_type": "execute_result",
          "data": {
            "text/plain": [
              "13.0"
            ]
          },
          "metadata": {},
          "execution_count": 64
        }
      ]
    },
    {
      "cell_type": "code",
      "source": [
        "# Create a 3D array of shape (2, 1, 4) and a 2D array of shape (4,\n",
        "##1). Perform an element-wise operation using broadcasting and explain the\n",
        "#result. Use np. new axis to achieve the same result without broadcasting.\n",
        "array_3d = np.array([[[1, 2, 3, 4]], [[5, 6, 7, 8]]])\n",
        "\n",
        "# Create a 2D array of shape (4, 1)\n",
        "array_2d = np.array([[10], [20], [30], [40]])\n",
        "\n",
        "# Perform element-wise operation using broadcasting (addition)\n",
        "broadcasted_result = array_3d + array_2d.T\n",
        "broadcasted_result"
      ],
      "metadata": {
        "colab": {
          "base_uri": "https://localhost:8080/"
        },
        "id": "fyPlJLXQ6YJj",
        "outputId": "816146b3-c959-4148-9bfe-59d01fdbb133"
      },
      "execution_count": 65,
      "outputs": [
        {
          "output_type": "execute_result",
          "data": {
            "text/plain": [
              "array([[[11, 22, 33, 44]],\n",
              "\n",
              "       [[15, 26, 37, 48]]])"
            ]
          },
          "metadata": {},
          "execution_count": 65
        }
      ]
    },
    {
      "cell_type": "code",
      "source": [
        "array_2d.T"
      ],
      "metadata": {
        "colab": {
          "base_uri": "https://localhost:8080/"
        },
        "id": "F1BJ7uHT6_eq",
        "outputId": "fddf30ed-4295-40d7-9525-ae6eb965413a"
      },
      "execution_count": 66,
      "outputs": [
        {
          "output_type": "execute_result",
          "data": {
            "text/plain": [
              "array([[10, 20, 30, 40]])"
            ]
          },
          "metadata": {},
          "execution_count": 66
        }
      ]
    },
    {
      "cell_type": "code",
      "source": [
        "manualresult = array_3d + array_2d.T[np.newaxis, :, :]\n",
        "manualresult"
      ],
      "metadata": {
        "colab": {
          "base_uri": "https://localhost:8080/"
        },
        "id": "jXU6BLlf7GmM",
        "outputId": "b5215363-2ca1-491a-9110-e887b76cabef"
      },
      "execution_count": 67,
      "outputs": [
        {
          "output_type": "execute_result",
          "data": {
            "text/plain": [
              "array([[[11, 22, 33, 44]],\n",
              "\n",
              "       [[15, 26, 37, 48]]])"
            ]
          },
          "metadata": {},
          "execution_count": 67
        }
      ]
    },
    {
      "cell_type": "code",
      "source": [
        "#Create a 4D array of shape (2, 3, 4, 5) with random integers.\n",
        "#Use advanced slicing to extract a subarray and compute the mean along a\n",
        "#specified axis.\n",
        "array_4d = np.random.randint(1, 101, size=(2, 3, 4, 5))\n",
        "array_4d"
      ],
      "metadata": {
        "colab": {
          "base_uri": "https://localhost:8080/"
        },
        "id": "Eah-mJDq9Ffu",
        "outputId": "da087202-054d-475c-a971-aa5a1d3fe621"
      },
      "execution_count": 69,
      "outputs": [
        {
          "output_type": "execute_result",
          "data": {
            "text/plain": [
              "array([[[[ 93,  36,  93,  81,  96],\n",
              "         [  4,  63,   2,  77,  51],\n",
              "         [ 80,   5,  70,  59,  25],\n",
              "         [ 60,  57,  86,  40,  32]],\n",
              "\n",
              "        [[ 73,  42,  41,  21,  21],\n",
              "         [ 17,  89,  20,  96,  28],\n",
              "         [ 91,  37,  44,  25,  57],\n",
              "         [ 98,  26,  87,  90,  83]],\n",
              "\n",
              "        [[ 97,  38,  93,  63,  69],\n",
              "         [ 74,  97,  38,  35,  41],\n",
              "         [ 63,  36,  35,  65,   1],\n",
              "         [ 70,  69,  25,  67,  87]]],\n",
              "\n",
              "\n",
              "       [[[ 79,  43,   1,  59,  19],\n",
              "         [ 72,  95,  63,  73,  18],\n",
              "         [ 10,  48,  66,  21,  11],\n",
              "         [100,  43,  32,  44,  54]],\n",
              "\n",
              "        [[ 82,  84,  23,   5,  66],\n",
              "         [ 72, 100,  50,  49,  16],\n",
              "         [  4,  14,  50,  35,  51],\n",
              "         [ 29,  51,  70,  62,   9]],\n",
              "\n",
              "        [[ 14,  53,  14,  71,  60],\n",
              "         [ 32,  24, 100,  52,  25],\n",
              "         [ 72,  13,  32,  13,  99],\n",
              "         [ 11,  64,  67,  46,  63]]]])"
            ]
          },
          "metadata": {},
          "execution_count": 69
        }
      ]
    },
    {
      "cell_type": "code",
      "source": [
        "subarray = array_4d[:, 1, :2, -3:]\n",
        "subarray"
      ],
      "metadata": {
        "colab": {
          "base_uri": "https://localhost:8080/"
        },
        "id": "XmG-G4P89X2U",
        "outputId": "e0e4fdce-381e-4cf1-e040-74d2b7b52b17"
      },
      "execution_count": 75,
      "outputs": [
        {
          "output_type": "execute_result",
          "data": {
            "text/plain": [
              "array([[[41, 21, 21],\n",
              "        [20, 96, 28]],\n",
              "\n",
              "       [[23,  5, 66],\n",
              "        [50, 49, 16]]])"
            ]
          },
          "metadata": {},
          "execution_count": 75
        }
      ]
    },
    {
      "cell_type": "code",
      "source": [
        "mean_along_axis = np.mean(subarray, axis=2)\n",
        "mean_along_axis"
      ],
      "metadata": {
        "colab": {
          "base_uri": "https://localhost:8080/"
        },
        "id": "6OTjhbvk9kF0",
        "outputId": "fc84f09e-9a89-4daa-d4a5-6da389152294"
      },
      "execution_count": 79,
      "outputs": [
        {
          "output_type": "execute_result",
          "data": {
            "text/plain": [
              "array([[27.66666667, 48.        ],\n",
              "       [31.33333333, 38.33333333]])"
            ]
          },
          "metadata": {},
          "execution_count": 79
        }
      ]
    },
    {
      "cell_type": "code",
      "source": [
        "# Generate a large 2D array and demonstrate the use of np. reshape\n",
        "# () and unravel () to manipulate its shape for various linear algebra operations.\n",
        "\n",
        "arr_2d = np.random.rand(10,15)\n",
        "arr_2d"
      ],
      "metadata": {
        "colab": {
          "base_uri": "https://localhost:8080/"
        },
        "id": "DTMnOd2f90cn",
        "outputId": "95a97475-5e74-45c3-81fa-dc6dfadb3514"
      },
      "execution_count": 80,
      "outputs": [
        {
          "output_type": "execute_result",
          "data": {
            "text/plain": [
              "array([[0.74975696, 0.56044066, 0.57366373, ..., 0.12227388, 0.05007182,\n",
              "        0.1792176 ],\n",
              "       [0.36308512, 0.72793426, 0.38093636, ..., 0.22430639, 0.34056073,\n",
              "        0.30125342],\n",
              "       [0.07387645, 0.53005036, 0.77010148, ..., 0.5451284 , 0.89213954,\n",
              "        0.43289904],\n",
              "       ...,\n",
              "       [0.86665405, 0.91842116, 0.87067437, ..., 0.91557766, 0.24930265,\n",
              "        0.41734363],\n",
              "       [0.52950849, 0.72808255, 0.02374142, ..., 0.74841069, 0.02711865,\n",
              "        0.91274308],\n",
              "       [0.93333748, 0.86482683, 0.28545233, ..., 0.62021188, 0.35405682,\n",
              "        0.01147226]])"
            ]
          },
          "metadata": {},
          "execution_count": 80
        }
      ]
    },
    {
      "cell_type": "code",
      "source": [
        "arr_2d.shape"
      ],
      "metadata": {
        "colab": {
          "base_uri": "https://localhost:8080/"
        },
        "id": "avrld-9T-QLX",
        "outputId": "7e3e21fd-570d-461c-b2b3-93910555214b"
      },
      "execution_count": 81,
      "outputs": [
        {
          "output_type": "execute_result",
          "data": {
            "text/plain": [
              "(10, 15)"
            ]
          },
          "metadata": {},
          "execution_count": 81
        }
      ]
    },
    {
      "cell_type": "code",
      "source": [
        "arr_2d.mean()"
      ],
      "metadata": {
        "colab": {
          "base_uri": "https://localhost:8080/"
        },
        "id": "j72AvBK0-TiW",
        "outputId": "a48ea4b6-1829-4cbe-c20d-9dfc6a29ad92"
      },
      "execution_count": 85,
      "outputs": [
        {
          "output_type": "execute_result",
          "data": {
            "text/plain": [
              "0.5025510104466374"
            ]
          },
          "metadata": {},
          "execution_count": 85
        }
      ]
    },
    {
      "cell_type": "code",
      "source": [
        "arr_2d.ravel()"
      ],
      "metadata": {
        "colab": {
          "base_uri": "https://localhost:8080/"
        },
        "id": "q18beaWP-a47",
        "outputId": "95414363-1a5d-48b0-821a-8907ed370eb9"
      },
      "execution_count": 87,
      "outputs": [
        {
          "output_type": "execute_result",
          "data": {
            "text/plain": [
              "array([0.74975696, 0.56044066, 0.57366373, ..., 0.62021188, 0.35405682,\n",
              "       0.01147226])"
            ]
          },
          "metadata": {},
          "execution_count": 87
        }
      ]
    },
    {
      "cell_type": "code",
      "source": [
        "arr_2d.reshape(5,5,6)"
      ],
      "metadata": {
        "colab": {
          "base_uri": "https://localhost:8080/"
        },
        "id": "wwgrLV44-nfP",
        "outputId": "390fa259-2cc9-430b-97bd-814a7197369b"
      },
      "execution_count": 91,
      "outputs": [
        {
          "output_type": "execute_result",
          "data": {
            "text/plain": [
              "array([[[7.49756960e-01, 5.60440665e-01, 5.73663730e-01, 3.92568077e-02,\n",
              "         1.89340431e-01, 6.33460921e-01],\n",
              "        [1.19760111e-02, 7.48567974e-01, 4.02153763e-01, 9.98742649e-01,\n",
              "         5.35090264e-01, 9.53517701e-01],\n",
              "        [1.22273879e-01, 5.00718215e-02, 1.79217605e-01, 3.63085116e-01,\n",
              "         7.27934263e-01, 3.80936364e-01],\n",
              "        [6.48600668e-01, 1.37750542e-01, 8.23746561e-01, 1.93330055e-01,\n",
              "         9.53318031e-01, 4.16530002e-01],\n",
              "        [9.21626245e-01, 5.59907063e-01, 7.32783842e-02, 2.24306386e-01,\n",
              "         3.40560730e-01, 3.01253420e-01]],\n",
              "\n",
              "       [[7.38764517e-02, 5.30050363e-01, 7.70101481e-01, 4.37830262e-01,\n",
              "         3.52202590e-01, 2.15896838e-01],\n",
              "        [8.63308339e-01, 3.22102216e-03, 9.99846654e-01, 8.56275115e-01,\n",
              "         1.68614308e-01, 2.67790698e-03],\n",
              "        [5.45128403e-01, 8.92139538e-01, 4.32899039e-01, 1.02238482e-01,\n",
              "         2.79177432e-01, 2.66251488e-01],\n",
              "        [7.06041569e-01, 7.07745931e-01, 9.71456616e-01, 1.34128827e-01,\n",
              "         5.20891425e-01, 2.32267621e-01],\n",
              "        [9.79272424e-01, 9.84081710e-01, 4.76556547e-01, 1.79019707e-01,\n",
              "         7.38383695e-01, 2.22676315e-01]],\n",
              "\n",
              "       [[8.60031119e-01, 2.33063613e-01, 2.53712787e-01, 6.56154996e-01,\n",
              "         4.52560678e-01, 9.66237843e-01],\n",
              "        [7.54400469e-01, 5.61057842e-01, 9.04255413e-01, 4.77397214e-01,\n",
              "         1.48220897e-01, 6.16215009e-01],\n",
              "        [3.42263751e-01, 5.95475526e-01, 4.34609033e-01, 2.36404613e-01,\n",
              "         3.95108002e-01, 8.63140436e-01],\n",
              "        [8.24003432e-01, 9.27572039e-01, 2.20917604e-02, 4.58255898e-01,\n",
              "         7.41635633e-01, 1.41388155e-01],\n",
              "        [3.26678656e-01, 7.35081448e-01, 5.23325858e-01, 2.75393156e-01,\n",
              "         6.38903886e-01, 8.62660899e-01]],\n",
              "\n",
              "       [[7.52048525e-01, 9.31414944e-02, 4.74401277e-01, 4.08802919e-01,\n",
              "         8.02608813e-01, 6.36320157e-01],\n",
              "        [6.85369433e-01, 1.81603787e-01, 9.04861209e-01, 2.71616093e-01,\n",
              "         9.11312728e-01, 9.24660799e-01],\n",
              "        [5.05990445e-01, 4.95857515e-01, 1.99902643e-01, 8.66654045e-01,\n",
              "         9.18421163e-01, 8.70674367e-01],\n",
              "        [6.44035407e-01, 6.19957691e-06, 3.46514886e-01, 2.64801005e-01,\n",
              "         5.04697012e-01, 8.75585738e-01],\n",
              "        [4.66953171e-01, 6.01576350e-02, 3.19837944e-01, 9.15577665e-01,\n",
              "         2.49302648e-01, 4.17343629e-01]],\n",
              "\n",
              "       [[5.29508495e-01, 7.28082545e-01, 2.37414221e-02, 8.86254189e-01,\n",
              "         9.16514981e-01, 6.82415472e-01],\n",
              "        [3.35694223e-02, 8.90472518e-01, 3.01360418e-01, 4.75154462e-02,\n",
              "         6.01388921e-01, 4.02664381e-01],\n",
              "        [7.48410692e-01, 2.71186485e-02, 9.12743077e-01, 9.33337484e-01,\n",
              "         8.64826827e-01, 2.85452334e-01],\n",
              "        [8.02708064e-01, 3.17443328e-01, 1.28809604e-01, 3.68387361e-02,\n",
              "         6.65010813e-01, 5.62962736e-01],\n",
              "        [1.41491308e-01, 8.95803131e-01, 3.76152082e-01, 6.20211883e-01,\n",
              "         3.54056824e-01, 1.14722631e-02]]])"
            ]
          },
          "metadata": {},
          "execution_count": 91
        }
      ]
    },
    {
      "cell_type": "code",
      "source": [
        "# Question: Given a 5x5 array of sequential integers, use slicing to:\n",
        "\n",
        "#o Extract the diagonal elements\n",
        "#o Replace the elements of the middle row with zeros\n",
        "#o Flip the array vertically and horizontally\n",
        "\n",
        "array = np.arange(1, 26).reshape(5, 5)\n",
        "array"
      ],
      "metadata": {
        "colab": {
          "base_uri": "https://localhost:8080/"
        },
        "id": "ckNhUMr2-vSn",
        "outputId": "0c1e6bb9-3b23-4b6c-f437-07f2a2198d76"
      },
      "execution_count": 92,
      "outputs": [
        {
          "output_type": "execute_result",
          "data": {
            "text/plain": [
              "array([[ 1,  2,  3,  4,  5],\n",
              "       [ 6,  7,  8,  9, 10],\n",
              "       [11, 12, 13, 14, 15],\n",
              "       [16, 17, 18, 19, 20],\n",
              "       [21, 22, 23, 24, 25]])"
            ]
          },
          "metadata": {},
          "execution_count": 92
        }
      ]
    },
    {
      "cell_type": "code",
      "source": [
        "diagonal_elements = np.diagonal(array)\n",
        "diagonal_elements"
      ],
      "metadata": {
        "colab": {
          "base_uri": "https://localhost:8080/"
        },
        "id": "OpUqNsKt_LRG",
        "outputId": "03cd9663-6899-4e07-b1d0-0f22b19dc189"
      },
      "execution_count": 93,
      "outputs": [
        {
          "output_type": "execute_result",
          "data": {
            "text/plain": [
              "array([ 1,  7, 13, 19, 25])"
            ]
          },
          "metadata": {},
          "execution_count": 93
        }
      ]
    },
    {
      "cell_type": "code",
      "source": [
        "array_with_zeros = array.copy()\n",
        "array_with_zeros[2, :] = 0\n",
        "array_with_zeros"
      ],
      "metadata": {
        "colab": {
          "base_uri": "https://localhost:8080/"
        },
        "id": "rbjt2gzK_Sa5",
        "outputId": "8ea6aea4-6e13-4f3e-a2b1-9c4ab2adbc1c"
      },
      "execution_count": 95,
      "outputs": [
        {
          "output_type": "execute_result",
          "data": {
            "text/plain": [
              "array([[ 1,  2,  3,  4,  5],\n",
              "       [ 6,  7,  8,  9, 10],\n",
              "       [ 0,  0,  0,  0,  0],\n",
              "       [16, 17, 18, 19, 20],\n",
              "       [21, 22, 23, 24, 25]])"
            ]
          },
          "metadata": {},
          "execution_count": 95
        }
      ]
    }
  ]
}